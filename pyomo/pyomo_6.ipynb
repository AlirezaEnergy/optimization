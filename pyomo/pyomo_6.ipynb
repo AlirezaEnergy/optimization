{
 "cells": [
  {
   "cell_type": "markdown",
   "id": "389e69fb",
   "metadata": {},
   "source": [
    "### pyomo itself doesn't solve the optimization problem. it serves as interface by which one can communicate with the solvers"
   ]
  },
  {
   "cell_type": "code",
   "execution_count": 1,
   "id": "b47c3799",
   "metadata": {},
   "outputs": [],
   "source": [
    "import pyomo.environ as pyo"
   ]
  },
  {
   "cell_type": "code",
   "execution_count": null,
   "id": "31076651",
   "metadata": {},
   "outputs": [],
   "source": [
    "solver = pyo.SolverFactory(\"glpk\")"
   ]
  },
  {
   "cell_type": "markdown",
   "id": "6ea0d0e8",
   "metadata": {},
   "source": [
    "### solver.solve() arguments"
   ]
  },
  {
   "cell_type": "markdown",
   "id": "a972c4f8",
   "metadata": {},
   "source": [
    "#### options: A dictionary of options to be passed to the underlying solver.\n",
    "\n",
    "#### tee: if true, displays the results and save them in a log file. if false, just saves them in the log file.\n",
    "\n",
    "#### load_solutions: If this argument is True (the default), then solution values are automically transfered to Var objects on the model.\n",
    "\n",
    "#### timelimit: The number of seconds that a shell solver is run before it is terminated. (default is None)\n",
    "\n",
    "#### report_timing: If this argument is True, then timing information is reported by the solver (default is False)"
   ]
  },
  {
   "cell_type": "code",
   "execution_count": null,
   "id": "008ff338",
   "metadata": {},
   "outputs": [],
   "source": [
    "myoptions = {}\n",
    "myoptions[\"noscale\"] = None\n",
    "myoptions[\"load_solutions\"] = True\n",
    "myoptions[\"timelimit\"] = 1000000\n",
    "myoptions[\"report_timing\"] = True\n",
    "res = solver.solve(model, options=myoptions, tee=True)\n",
    "\n",
    "if (res.solver.status == SolverStatus.ok) and (res.solver.termination_condition == TerminationCondition.optimal):\n",
    "    # Manually load the solution into the model\n",
    "    model.solutions.load_from(res)\n",
    "else:\n",
    "    print(\"Solve failed.\")\n",
    "\n",
    "print(pyo.check_optimal_termination(res))\n",
    "    \n",
    "model.y.pprint()"
   ]
  },
  {
   "cell_type": "markdown",
   "id": "cf53f9d4",
   "metadata": {},
   "source": [
    "# solver and optimality status\n",
    "http://www.pyomo.org/blog/2015/1/8/accessing-solver"
   ]
  },
  {
   "cell_type": "code",
   "execution_count": null,
   "id": "6bb00f20",
   "metadata": {},
   "outputs": [],
   "source": []
  }
 ],
 "metadata": {
  "kernelspec": {
   "display_name": "Python 3",
   "language": "python",
   "name": "python3"
  },
  "language_info": {
   "codemirror_mode": {
    "name": "ipython",
    "version": 3
   },
   "file_extension": ".py",
   "mimetype": "text/x-python",
   "name": "python",
   "nbconvert_exporter": "python",
   "pygments_lexer": "ipython3",
   "version": "3.8.8"
  }
 },
 "nbformat": 4,
 "nbformat_minor": 5
}
