{
 "cells": [
  {
   "cell_type": "markdown",
   "id": "551cc93e",
   "metadata": {},
   "source": [
    "# 1) Import libraries"
   ]
  },
  {
   "cell_type": "code",
   "execution_count": 1,
   "id": "3f00870c",
   "metadata": {},
   "outputs": [],
   "source": [
    "import numpy as np\n",
    "import pandas as pd\n",
    "import pyomo.environ as pyo"
   ]
  },
  {
   "cell_type": "markdown",
   "id": "19d99042",
   "metadata": {},
   "source": [
    "# 2) Initialize Parameters"
   ]
  },
  {
   "cell_type": "code",
   "execution_count": 2,
   "id": "99267b6f",
   "metadata": {},
   "outputs": [],
   "source": [
    "excess_electricity_cost = 100        # penalty for generating electricity more than needed\n",
    "hourly_excess_ele_ub    = 1000       # max amount of excess electricity in one hour\n",
    "total_excess_ele_ub     = 10000      # max amount of excess electricity in the horizon\n",
    "\n",
    "curtailment_cost        = 30         # penalty for generating electricity less than needed\n",
    "hourly_curtailed_ele_ub = 1000       # max amount of electricity shortage in one hour\n",
    "total_curtailed_ele_ub  = 10000      # max amount of electricity shortage in the horizon"
   ]
  },
  {
   "cell_type": "markdown",
   "id": "ebbda947",
   "metadata": {},
   "source": [
    "# 2) Read data"
   ]
  },
  {
   "cell_type": "markdown",
   "id": "583c9294",
   "metadata": {},
   "source": [
    "## 2-1) Generators' data"
   ]
  },
  {
   "cell_type": "code",
   "execution_count": 3,
   "id": "36d094f8",
   "metadata": {},
   "outputs": [
    {
     "data": {
      "text/html": [
       "<div>\n",
       "<style scoped>\n",
       "    .dataframe tbody tr th:only-of-type {\n",
       "        vertical-align: middle;\n",
       "    }\n",
       "\n",
       "    .dataframe tbody tr th {\n",
       "        vertical-align: top;\n",
       "    }\n",
       "\n",
       "    .dataframe thead th {\n",
       "        text-align: right;\n",
       "    }\n",
       "</style>\n",
       "<table border=\"1\" class=\"dataframe\">\n",
       "  <thead>\n",
       "    <tr style=\"text-align: right;\">\n",
       "      <th></th>\n",
       "      <th>MinOnTime</th>\n",
       "      <th>MinOffTime</th>\n",
       "      <th>RampUp</th>\n",
       "      <th>RampDown</th>\n",
       "      <th>pmin</th>\n",
       "      <th>pmax</th>\n",
       "      <th>smax</th>\n",
       "      <th>StartUpCost</th>\n",
       "      <th>ShutDownCost</th>\n",
       "      <th>a</th>\n",
       "      <th>b</th>\n",
       "      <th>c</th>\n",
       "    </tr>\n",
       "  </thead>\n",
       "  <tbody>\n",
       "    <tr>\n",
       "      <th>1</th>\n",
       "      <td>2</td>\n",
       "      <td>2</td>\n",
       "      <td>30</td>\n",
       "      <td>15</td>\n",
       "      <td>20</td>\n",
       "      <td>90</td>\n",
       "      <td>15</td>\n",
       "      <td>500</td>\n",
       "      <td>500</td>\n",
       "      <td>0.010</td>\n",
       "      <td>12.888</td>\n",
       "      <td>6.78</td>\n",
       "    </tr>\n",
       "    <tr>\n",
       "      <th>2</th>\n",
       "      <td>1</td>\n",
       "      <td>2</td>\n",
       "      <td>15</td>\n",
       "      <td>15</td>\n",
       "      <td>10</td>\n",
       "      <td>50</td>\n",
       "      <td>10</td>\n",
       "      <td>500</td>\n",
       "      <td>500</td>\n",
       "      <td>0.015</td>\n",
       "      <td>12.888</td>\n",
       "      <td>6.78</td>\n",
       "    </tr>\n",
       "    <tr>\n",
       "      <th>3</th>\n",
       "      <td>2</td>\n",
       "      <td>2</td>\n",
       "      <td>60</td>\n",
       "      <td>60</td>\n",
       "      <td>20</td>\n",
       "      <td>90</td>\n",
       "      <td>15</td>\n",
       "      <td>800</td>\n",
       "      <td>800</td>\n",
       "      <td>0.012</td>\n",
       "      <td>26.244</td>\n",
       "      <td>31.67</td>\n",
       "    </tr>\n",
       "    <tr>\n",
       "      <th>4</th>\n",
       "      <td>2</td>\n",
       "      <td>1</td>\n",
       "      <td>15</td>\n",
       "      <td>15</td>\n",
       "      <td>15</td>\n",
       "      <td>60</td>\n",
       "      <td>10</td>\n",
       "      <td>300</td>\n",
       "      <td>300</td>\n",
       "      <td>0.020</td>\n",
       "      <td>17.820</td>\n",
       "      <td>10.15</td>\n",
       "    </tr>\n",
       "  </tbody>\n",
       "</table>\n",
       "</div>"
      ],
      "text/plain": [
       "   MinOnTime  MinOffTime  RampUp  RampDown  pmin  pmax  smax  StartUpCost  \\\n",
       "1          2           2      30        15    20    90    15          500   \n",
       "2          1           2      15        15    10    50    10          500   \n",
       "3          2           2      60        60    20    90    15          800   \n",
       "4          2           1      15        15    15    60    10          300   \n",
       "\n",
       "   ShutDownCost      a       b      c  \n",
       "1           500  0.010  12.888   6.78  \n",
       "2           500  0.015  12.888   6.78  \n",
       "3           800  0.012  26.244  31.67  \n",
       "4           300  0.020  17.820  10.15  "
      ]
     },
     "execution_count": 3,
     "metadata": {},
     "output_type": "execute_result"
    }
   ],
   "source": [
    "GenData = pd.read_excel(\"GenData.xlsx\", header = 0, index_col = 0)\n",
    "G = list(GenData.index) # will be used as the set of generators in the optimization model\n",
    "NumGen = len(G)\n",
    "GenData"
   ]
  },
  {
   "cell_type": "markdown",
   "id": "abbb21eb",
   "metadata": {},
   "source": [
    "## 2-2) Demand Data"
   ]
  },
  {
   "cell_type": "code",
   "execution_count": 4,
   "id": "685d6cd9",
   "metadata": {},
   "outputs": [
    {
     "data": {
      "text/plain": [
       "<AxesSubplot:>"
      ]
     },
     "execution_count": 4,
     "metadata": {},
     "output_type": "execute_result"
    },
    {
     "data": {
      "image/png": "[encoded data removed]",
      "text/plain": [
       "<Figure size 432x288 with 1 Axes>"
      ]
     },
     "metadata": {
      "needs_background": "light"
     },
     "output_type": "display_data"
    }
   ],
   "source": [
    "load = pd.read_excel(\"load.xlsx\", header = 0, index_col = 0)\n",
    "T = list(load.index) # will be used as the set of time in the optimization model\n",
    "Horizon = len(T)\n",
    "load.plot()"
   ]
  },
  {
   "cell_type": "markdown",
   "id": "0979c70f",
   "metadata": {},
   "source": [
    "# 4) Linearization"
   ]
  },
  {
   "cell_type": "code",
   "execution_count": 5,
   "id": "3dda0d93",
   "metadata": {},
   "outputs": [],
   "source": [
    "cost_coef = [list(GenData.loc[:,\"c\"]),\n",
    "             list(GenData.loc[:,\"b\"]),\n",
    "             list(GenData.loc[:,\"a\"])]\n",
    "\n",
    "pmin = np.array(GenData.loc[:,\"pmin\"])\n",
    "pmax = np.array(GenData.loc[:,\"pmax\"])\n",
    "\n",
    "def GenCost(cost_coef,P):\n",
    "    return cost_coef[2]*np.power(P, 2) + cost_coef[1]*np.power(P, 1) + cost_coef[0]\n",
    "\n",
    "lines_num = 10                                 # how many lines you want to fit on the quadratic cost function\n",
    "points_num = lines_num + 1\n",
    "points = np.linspace(pmin,pmax,num=points_num)\n",
    "costs = GenCost(cost_coef,points).T\n",
    "points = points.T\n",
    "\n",
    "slope = np.zeros((NumGen, lines_num))          # slope of each fitted line\n",
    "for i in range(NumGen):\n",
    "    for j in range(lines_num):\n",
    "        slope[i,j] = (costs[i,j+1] - costs[i,j]) / (points[i,j+1] - points[i,j])\n",
    "\n",
    "linear_range = []                              # distance between two consecutive points (beginning and end of each line)\n",
    "for i in range(NumGen):\n",
    "    linear_range.append(points[i,1] - points[i,0])\n",
    "\n",
    "linear_range = pd.DataFrame(linear_range, columns = ['linear_range'], index = G)\n",
    "slope = pd.DataFrame(slope, columns = list(range(1,lines_num +1)), index = G)"
   ]
  },
  {
   "cell_type": "markdown",
   "id": "789970d5",
   "metadata": {},
   "source": [
    "# 5) Initialize the model"
   ]
  },
  {
   "cell_type": "code",
   "execution_count": 6,
   "id": "24fe27d5",
   "metadata": {},
   "outputs": [],
   "source": [
    "model = pyo.ConcreteModel(name=\"Unit Commitment\")"
   ]
  },
  {
   "cell_type": "markdown",
   "id": "4f7b099d",
   "metadata": {},
   "source": [
    "# 6) Define sets"
   ]
  },
  {
   "cell_type": "code",
   "execution_count": 7,
   "id": "f6b44e10",
   "metadata": {},
   "outputs": [],
   "source": [
    "# G defined above (when reading generators' data)\n",
    "# T defined above (when reading demand data)\n",
    "L = list(range(1,lines_num +1))"
   ]
  },
  {
   "cell_type": "markdown",
   "id": "d5b74267",
   "metadata": {},
   "source": [
    "# 7) Define variables"
   ]
  },
  {
   "cell_type": "code",
   "execution_count": 8,
   "id": "39bc9277",
   "metadata": {},
   "outputs": [],
   "source": [
    "model.pl = pyo.Var(G,T,L, within=pyo.NonNegativeReals) # power at each time step for each linear part and generator\n",
    "model.p  = pyo.Var(G,T,   within=pyo.NonNegativeReals, initialize = 0) # power at each time step for each generator\n",
    "\n",
    "model.EE = pyo.Var(T,     within=pyo.NonNegativeReals) # Excess electricity at each time\n",
    "model.CE = pyo.Var(T,     within=pyo.NonNegativeReals) # curtailed electricity at each time\n",
    "\n",
    "model.v  = pyo.Var(G,T,   within=pyo.Binary, initialize = 0)           # turn gen g on at time t\n",
    "model.w  = pyo.Var(G,T,   within=pyo.Binary, initialize = 0)           # turn gen g off at time t\n",
    "model.u  = pyo.Var(G,T,   within=pyo.Binary, initialize = 0)           # whether gen g is working or not"
   ]
  },
  {
   "cell_type": "markdown",
   "id": "e7a0f283",
   "metadata": {},
   "source": [
    "# 8) Objective function"
   ]
  },
  {
   "cell_type": "code",
   "execution_count": 9,
   "id": "909d09a5",
   "metadata": {},
   "outputs": [],
   "source": [
    "def obj_rule(model):\n",
    "    # start up and shut down costs\n",
    "    SUSDC = sum( GenData.loc[g,'StartUpCost']*model.v[g,t] + GenData.loc[g,'ShutDownCost']*model.w[g,t] for g in G for t in T )\n",
    "    \n",
    "    # operational costs\n",
    "    OC    = sum( slope.loc[g,l]*model.pl[g,t,l] for g in G for t in T for l in L)\n",
    "    \n",
    "    # excess electricity cost\n",
    "    EEC   = excess_electricity_cost*sum( model.EE[t] for t in T )\n",
    "    \n",
    "    # electricity shortage cost\n",
    "    CEC   = curtailment_cost*sum( model.CE[t] for t in T)\n",
    "    \n",
    "    return SUSDC + OC + EEC + CEC\n",
    "\n",
    "model.obj = pyo.Objective(rule=obj_rule, sense = pyo.minimize)"
   ]
  },
  {
   "cell_type": "markdown",
   "id": "e257ff75",
   "metadata": {},
   "source": [
    "# 9) Constraints"
   ]
  },
  {
   "cell_type": "markdown",
   "id": "ee374eb4",
   "metadata": {},
   "source": [
    "## 9-1) Unit commitment constraints"
   ]
  },
  {
   "cell_type": "markdown",
   "id": "2a76a2fc",
   "metadata": {},
   "source": [
    "### 9-1-1) Start up & Shut down"
   ]
  },
  {
   "attachments": {
    "image.png": {
     "image/png": "[encoded data removed]"
    }
   },
   "cell_type": "markdown",
   "id": "f22a4298",
   "metadata": {},
   "source": [
    "![image.png](attachment:image.png)"
   ]
  },
  {
   "cell_type": "code",
   "execution_count": 10,
   "id": "ed546d3d",
   "metadata": {},
   "outputs": [],
   "source": [
    "def SU_rule(model,g,t):\n",
    "    if t > 1:\n",
    "        return model.u[g,t] - model.u[g,t-1] <= model.v[g,t]\n",
    "    else:\n",
    "        return model.u[g,t] <= model.v[g,t]\n",
    "model.SU = pyo.Constraint(G,T, rule = SU_rule)\n",
    "\n",
    "def SD_rule(model,g,t):\n",
    "    if t > 1:\n",
    "        return model.u[g,t-1] - model.u[g,t] <= model.w[g,t]\n",
    "    else:\n",
    "        return pyo.Constraint.Skip  # since we initialized with zero, we can not shut down at the beginning as there is nothing to shut it down\n",
    "model.SD = pyo.Constraint(G,T, rule = SD_rule)"
   ]
  },
  {
   "cell_type": "markdown",
   "id": "64e9b47f",
   "metadata": {},
   "source": [
    "### 9-1-2) Min up time & Min down time"
   ]
  },
  {
   "cell_type": "code",
   "execution_count": 11,
   "id": "774b2a0e",
   "metadata": {},
   "outputs": [],
   "source": [
    "def min_up_time_rule(model,g,t):\n",
    "    alpha = min(Horizon,t+GenData.loc[g,'MinOnTime']-1)\n",
    "    K = list(range(t,alpha +1))\n",
    "    return sum( model.u[g,k] for k in K ) >= len(K)*model.v[g,t]\n",
    "model.MUT = pyo.Constraint(G,T, rule = min_up_time_rule)\n",
    "\n",
    "def min_down_time_rule(model,g,t):\n",
    "    alpha = min(Horizon,t+GenData.loc[g,'MinOffTime']-1)\n",
    "    K = list(range(t,alpha +1))\n",
    "    return sum( 1-model.u[g,k] for k in K ) >= len(K)*model.w[g,t]\n",
    "model.MDT = pyo.Constraint(G,T, rule = min_down_time_rule)"
   ]
  },
  {
   "cell_type": "markdown",
   "id": "c789f9e2",
   "metadata": {},
   "source": [
    "## 10) Thermal Generation constraints"
   ]
  },
  {
   "cell_type": "markdown",
   "id": "a66073c8",
   "metadata": {},
   "source": [
    "### 10-1) Lower and upper bounds of thermal power generation"
   ]
  },
  {
   "cell_type": "code",
   "execution_count": 12,
   "id": "9d50dfbf",
   "metadata": {},
   "outputs": [],
   "source": [
    "def power_ub_rule(model,g,t):\n",
    "    return model.p[g,t] <= model.u[g,t]*GenData.loc[g,'pmax']\n",
    "model.power_ub = pyo.Constraint(G,T, rule = power_ub_rule)\n",
    "\n",
    "def power_lb_rule(model,g,t):\n",
    "    return model.u[g,t]*GenData.loc[g,'pmin'] <= model.p[g,t]\n",
    "model.power_lb = pyo.Constraint(G,T, rule = power_lb_rule)"
   ]
  },
  {
   "cell_type": "markdown",
   "id": "8bcc72c3",
   "metadata": {},
   "source": [
    "### 10-2) Ramp up & Ramp down"
   ]
  },
  {
   "cell_type": "code",
   "execution_count": 13,
   "id": "f6dec50f",
   "metadata": {},
   "outputs": [],
   "source": [
    "def RU_rule(model,g,t):\n",
    "    if t > 1:\n",
    "        return model.p[g,t] - model.p[g,t-1] <= GenData.loc[g,'RampUp']*(1+model.u[g,t-1]-model.u[g,t]) + GenData.loc[g,'pmin']*(2-model.u[g,t]-model.u[g,t-1])\n",
    "    else:\n",
    "        return model.p[g,t] == model.u[g,t]*GenData.loc[g,'pmin'] #pyo.Constraint.Skip\n",
    "model.RU = pyo.Constraint(G,T, rule = RU_rule)\n",
    "\n",
    "def RD_rule(model,g,t):\n",
    "    if t > 1:\n",
    "        return model.p[g,t-1] - model.p[g,t] <= GenData.loc[g,'RampDown']*(1-model.u[g,t-1]+model.u[g,t]) + GenData.loc[g,'pmin']*(2-model.u[g,t]-model.u[g,t-1])\n",
    "    else:\n",
    "        return pyo.Constraint.Skip\n",
    "model.RD = pyo.Constraint(G,T, rule = RD_rule)"
   ]
  },
  {
   "cell_type": "markdown",
   "id": "e76a61d6",
   "metadata": {},
   "source": [
    "### 10-3) Excess electricity limit & Curtailment limit"
   ]
  },
  {
   "cell_type": "code",
   "execution_count": 14,
   "id": "c2d21aa0",
   "metadata": {},
   "outputs": [],
   "source": [
    "####### hourly upper bound\n",
    "\n",
    "def hourly_excess_ele_ub_rule(model,t):\n",
    "    return model.EE[t] <= hourly_excess_ele_ub\n",
    "model.hourly_excess_ele_ub = pyo.Constraint(T, rule = hourly_excess_ele_ub_rule)\n",
    "\n",
    "def hourly_curtailed_ele_ub_rule(model,t):\n",
    "    return model.CE[t] <= hourly_curtailed_ele_ub\n",
    "model.hourly_curtailed_ele_ub = pyo.Constraint(T, rule = hourly_curtailed_ele_ub_rule)\n",
    "\n",
    "####### total ub\n",
    "\n",
    "def total_excess_ele_ub_rule(model):\n",
    "    return sum( model.EE[t] for t in T ) <= total_excess_ele_ub\n",
    "model.total_excess_ele_ub = pyo.Constraint(rule = total_excess_ele_ub_rule)\n",
    "\n",
    "def total_curtailed_ele_ub_rule(model):\n",
    "    return sum( model.CE[t] for t in T ) <= total_curtailed_ele_ub\n",
    "model.total_curtailed_ele_ub = pyo.Constraint(rule = total_curtailed_ele_ub_rule)"
   ]
  },
  {
   "cell_type": "markdown",
   "id": "160af0fe",
   "metadata": {},
   "source": [
    "### 10-4) Balance (Demand satisfaction)"
   ]
  },
  {
   "cell_type": "code",
   "execution_count": 15,
   "id": "0afe3c5b",
   "metadata": {},
   "outputs": [],
   "source": [
    "def demand_rule(model,t):\n",
    "    return sum(model.p[g,t] for g in G) - load.loc[t,'ele'] == model.EE[t] - model.CE[t]\n",
    "model.demand = pyo.Constraint(T, rule = demand_rule)"
   ]
  },
  {
   "cell_type": "markdown",
   "id": "10b969bf",
   "metadata": {},
   "source": [
    "### 10-5) Sum of piece wise powers"
   ]
  },
  {
   "cell_type": "code",
   "execution_count": 16,
   "id": "db7c37d1",
   "metadata": {},
   "outputs": [],
   "source": [
    "def linear_power_rule(model,g,t):\n",
    "    return model.p[g,t] == sum( model.pl[g,t,l] for l in L )\n",
    "model.linear_power = pyo.Constraint(G,T, rule = linear_power_rule)\n",
    "\n",
    "# each P_L must be less than linear range\n",
    "def linear_power_ub_rule(model,g,t,l):\n",
    "    return model.pl[g,t,l] <= linear_range.loc[g,'linear_range']\n",
    "model.linear_power_ub = pyo.Constraint(G,T,L, rule = linear_power_ub_rule)"
   ]
  },
  {
   "cell_type": "code",
   "execution_count": 17,
   "id": "11772855",
   "metadata": {},
   "outputs": [
    {
     "name": "stdout",
     "output_type": "stream",
     "text": [
      "True\n"
     ]
    }
   ],
   "source": [
    "status = pyo.SolverFactory(\"glpk\").solve(model)\n",
    "\n",
    "pyo.assert_optimal_termination(status)\n",
    "print(pyo.check_optimal_termination(status))"
   ]
  },
  {
   "cell_type": "code",
   "execution_count": null,
   "id": "bb9104c0",
   "metadata": {},
   "outputs": [],
   "source": [
    "model.pprint()"
   ]
  },
  {
   "cell_type": "code",
   "execution_count": 18,
   "id": "5798bec2",
   "metadata": {},
   "outputs": [
    {
     "name": "stdout",
     "output_type": "stream",
     "text": [
      "p : Size=96, Index=p_index\n",
      "    Key     : Lower : Value : Upper : Fixed : Stale : Domain\n",
      "     (1, 1) :     0 :  20.0 :  None : False : False : NonNegativeReals\n",
      "     (1, 2) :     0 :  49.5 :  None : False : False : NonNegativeReals\n",
      "     (1, 3) :     0 :  70.0 :  None : False : False : NonNegativeReals\n",
      "     (1, 4) :     0 :  62.5 :  None : False : False : NonNegativeReals\n",
      "     (1, 5) :     0 :  47.5 :  None : False : False : NonNegativeReals\n",
      "     (1, 6) :     0 :  32.5 :  None : False : False : NonNegativeReals\n",
      "     (1, 7) :     0 :  62.5 :  None : False : False : NonNegativeReals\n",
      "     (1, 8) :     0 :  47.5 :  None : False : False : NonNegativeReals\n",
      "     (1, 9) :     0 :  49.0 :  None : False : False : NonNegativeReals\n",
      "    (1, 10) :     0 :  49.0 :  None : False : False : NonNegativeReals\n",
      "    (1, 11) :     0 :  44.5 :  None : False : False : NonNegativeReals\n",
      "    (1, 12) :     0 :  52.0 :  None : False : False : NonNegativeReals\n",
      "    (1, 13) :     0 :  37.0 :  None : False : False : NonNegativeReals\n",
      "    (1, 14) :     0 :  46.0 :  None : False : False : NonNegativeReals\n",
      "    (1, 15) :     0 :  49.0 :  None : False : False : NonNegativeReals\n",
      "    (1, 16) :     0 :  68.0 :  None : False : False : NonNegativeReals\n",
      "    (1, 17) :     0 :  70.0 :  None : False : False : NonNegativeReals\n",
      "    (1, 18) :     0 :  61.5 :  None : False : False : NonNegativeReals\n",
      "    (1, 19) :     0 :  46.5 :  None : False : False : NonNegativeReals\n",
      "    (1, 20) :     0 :  31.5 :  None : False : False : NonNegativeReals\n",
      "    (1, 21) :     0 :  28.0 :  None : False : False : NonNegativeReals\n",
      "    (1, 22) :     0 :  39.0 :  None : False : False : NonNegativeReals\n",
      "    (1, 23) :     0 :  67.0 :  None : False : False : NonNegativeReals\n",
      "    (1, 24) :     0 :  52.0 :  None : False : False : NonNegativeReals\n",
      "     (2, 1) :     0 :  10.0 :  None : False : False : NonNegativeReals\n",
      "     (2, 2) :     0 :  25.0 :  None : False : False : NonNegativeReals\n",
      "     (2, 3) :     0 :  40.0 :  None : False : False : NonNegativeReals\n",
      "     (2, 4) :     0 :  40.0 :  None : False : False : NonNegativeReals\n",
      "     (2, 5) :     0 :  25.0 :  None : False : False : NonNegativeReals\n",
      "     (2, 6) :     0 :  10.0 :  None : False : False : NonNegativeReals\n",
      "     (2, 7) :     0 :  25.0 :  None : False : False : NonNegativeReals\n",
      "     (2, 8) :     0 :  28.0 :  None : False : False : NonNegativeReals\n",
      "     (2, 9) :     0 :  37.0 :  None : False : False : NonNegativeReals\n",
      "    (2, 10) :     0 :  39.0 :  None : False : False : NonNegativeReals\n",
      "    (2, 11) :     0 :  32.0 :  None : False : False : NonNegativeReals\n",
      "    (2, 12) :     0 :  40.0 :  None : False : False : NonNegativeReals\n",
      "    (2, 13) :     0 :  27.0 :  None : False : False : NonNegativeReals\n",
      "    (2, 14) :     0 :  32.0 :  None : False : False : NonNegativeReals\n",
      "    (2, 15) :     0 :  35.0 :  None : False : False : NonNegativeReals\n",
      "    (2, 16) :     0 :  40.0 :  None : False : False : NonNegativeReals\n",
      "    (2, 17) :     0 :  40.0 :  None : False : False : NonNegativeReals\n",
      "    (2, 18) :     0 :  40.0 :  None : False : False : NonNegativeReals\n",
      "    (2, 19) :     0 :  25.0 :  None : False : False : NonNegativeReals\n",
      "    (2, 20) :     0 :  10.0 :  None : False : False : NonNegativeReals\n",
      "    (2, 21) :     0 :  22.0 :  None : False : False : NonNegativeReals\n",
      "    (2, 22) :     0 :  28.0 :  None : False : False : NonNegativeReals\n",
      "    (2, 23) :     0 :  40.0 :  None : False : False : NonNegativeReals\n",
      "    (2, 24) :     0 :  31.5 :  None : False : False : NonNegativeReals\n",
      "     (3, 1) :     0 :   0.0 :  None : False : False : NonNegativeReals\n",
      "     (3, 2) :     0 :   0.0 :  None : False : False : NonNegativeReals\n",
      "     (3, 3) :     0 :   0.0 :  None : False : False : NonNegativeReals\n",
      "     (3, 4) :     0 :   0.0 :  None : False : False : NonNegativeReals\n",
      "     (3, 5) :     0 :   0.0 :  None : False : False : NonNegativeReals\n",
      "     (3, 6) :     0 :   0.0 :  None : False : False : NonNegativeReals\n",
      "     (3, 7) :     0 :   0.0 :  None : False : False : NonNegativeReals\n",
      "     (3, 8) :     0 :   0.0 :  None : False : False : NonNegativeReals\n",
      "     (3, 9) :     0 :   0.0 :  None : False : False : NonNegativeReals\n",
      "    (3, 10) :     0 :   0.0 :  None : False : False : NonNegativeReals\n",
      "    (3, 11) :     0 :   0.0 :  None : False : False : NonNegativeReals\n",
      "    (3, 12) :     0 :   0.0 :  None : False : False : NonNegativeReals\n",
      "    (3, 13) :     0 :   0.0 :  None : False : False : NonNegativeReals\n",
      "    (3, 14) :     0 :   0.0 :  None : False : False : NonNegativeReals\n",
      "    (3, 15) :     0 :   0.0 :  None : False : False : NonNegativeReals\n",
      "    (3, 16) :     0 :   0.0 :  None : False : False : NonNegativeReals\n",
      "    (3, 17) :     0 :   0.0 :  None : False : False : NonNegativeReals\n",
      "    (3, 18) :     0 :   0.0 :  None : False : False : NonNegativeReals\n",
      "    (3, 19) :     0 :   0.0 :  None : False : False : NonNegativeReals\n",
      "    (3, 20) :     0 :   0.0 :  None : False : False : NonNegativeReals\n",
      "    (3, 21) :     0 :   0.0 :  None : False : False : NonNegativeReals\n",
      "    (3, 22) :     0 :   0.0 :  None : False : False : NonNegativeReals\n",
      "    (3, 23) :     0 :   0.0 :  None : False : False : NonNegativeReals\n",
      "    (3, 24) :     0 :   0.0 :  None : False : False : NonNegativeReals\n",
      "     (4, 1) :     0 :   0.0 :  None : False : False : NonNegativeReals\n",
      "     (4, 2) :     0 :  15.0 :  None : False : False : NonNegativeReals\n",
      "     (4, 3) :     0 :  30.0 :  None : False : False : NonNegativeReals\n",
      "     (4, 4) :     0 :  30.0 :  None : False : False : NonNegativeReals\n",
      "     (4, 5) :     0 :  15.0 :  None : False : False : NonNegativeReals\n",
      "     (4, 6) :     0 :   0.0 :  None : False : False : NonNegativeReals\n",
      "     (4, 7) :     0 :   0.0 :  None : False : False : NonNegativeReals\n",
      "     (4, 8) :     0 :   0.0 :  None : False : False : NonNegativeReals\n",
      "     (4, 9) :     0 :   0.0 :  None : False : False : NonNegativeReals\n",
      "    (4, 10) :     0 :   0.0 :  None : False : False : NonNegativeReals\n",
      "    (4, 11) :     0 :   0.0 :  None : False : False : NonNegativeReals\n",
      "    (4, 12) :     0 :   0.0 :  None : False : False : NonNegativeReals\n",
      "    (4, 13) :     0 :   0.0 :  None : False : False : NonNegativeReals\n",
      "    (4, 14) :     0 :   0.0 :  None : False : False : NonNegativeReals\n",
      "    (4, 15) :     0 :   0.0 :  None : False : False : NonNegativeReals\n",
      "    (4, 16) :     0 :   0.0 :  None : False : False : NonNegativeReals\n",
      "    (4, 17) :     0 :   0.0 :  None : False : False : NonNegativeReals\n",
      "    (4, 18) :     0 :   0.0 :  None : False : False : NonNegativeReals\n",
      "    (4, 19) :     0 :   0.0 :  None : False : False : NonNegativeReals\n",
      "    (4, 20) :     0 :   0.0 :  None : False : False : NonNegativeReals\n",
      "    (4, 21) :     0 :   0.0 :  None : False : False : NonNegativeReals\n",
      "    (4, 22) :     0 :   0.0 :  None : False : False : NonNegativeReals\n",
      "    (4, 23) :     0 :   0.0 :  None : False : False : NonNegativeReals\n",
      "    (4, 24) :     0 :   0.0 :  None : False : False : NonNegativeReals\n"
     ]
    }
   ],
   "source": [
    "model.p.pprint()"
   ]
  },
  {
   "cell_type": "code",
   "execution_count": null,
   "id": "01922340",
   "metadata": {},
   "outputs": [],
   "source": [
    "power_data = {(g, t): pyo.value(model.p[g,t]) for g in G for t in T}\n",
    "power_data = pd.DataFrame.from_dict(power_data, orient='index')\n",
    "power_data\n",
    "power_data.to_excel(\"C:/Users/ASUS/Desktop/ED_pyomo/res.xlsx\")"
   ]
  },
  {
   "cell_type": "markdown",
   "id": "82a236a1",
   "metadata": {},
   "source": [
    "## 11) Transmission constraints"
   ]
  },
  {
   "cell_type": "code",
   "execution_count": null,
   "id": "8388f40b",
   "metadata": {},
   "outputs": [],
   "source": []
  },
  {
   "cell_type": "markdown",
   "id": "2d5fb86b",
   "metadata": {},
   "source": [
    "## 12) Emission constraints"
   ]
  },
  {
   "cell_type": "code",
   "execution_count": null,
   "id": "43a0de3e",
   "metadata": {},
   "outputs": [],
   "source": []
  }
 ],
 "metadata": {
  "kernelspec": {
   "display_name": "Python 3",
   "language": "python",
   "name": "python3"
  },
  "language_info": {
   "codemirror_mode": {
    "name": "ipython",
    "version": 3
   },
   "file_extension": ".py",
   "mimetype": "text/x-python",
   "name": "python",
   "nbconvert_exporter": "python",
   "pygments_lexer": "ipython3",
   "version": "3.8.8"
  }
 },
 "nbformat": 4,
 "nbformat_minor": 5
}
